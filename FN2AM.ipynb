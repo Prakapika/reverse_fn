{
 "cells": [
  {
   "cell_type": "code",
   "execution_count": null,
   "id": "ed49d962",
   "metadata": {},
   "outputs": [],
   "source": [
    "def reverse_string(str1):\n",
    "    reverse_str = \"\"\n",
    "    index = len(str1)\n",
    "    while index > 0:\n",
    "        reverse_str = reverse_str + str1[index - 1]\n",
    "        index = index - 1\n",
    "    return reverse_str\n",
    "Output = reverse_string('1234abcd')\n",
    "print(Output)"
   ]
  },
  {
   "cell_type": "code",
   "execution_count": null,
   "id": "4efedb08",
   "metadata": {},
   "outputs": [],
   "source": []
  }
 ],
 "metadata": {
  "kernelspec": {
   "display_name": "Python 3 (ipykernel)",
   "language": "python",
   "name": "python3"
  }
 },
 "nbformat": 4,
 "nbformat_minor": 5
}
